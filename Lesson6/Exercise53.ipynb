{
 "cells": [
  {
   "cell_type": "markdown",
   "metadata": {},
   "source": [
    "# Markov Chain "
   ]
  },
  {
   "cell_type": "markdown",
   "metadata": {},
   "source": [
    "## Load Text Sources"
   ]
  },
  {
   "cell_type": "code",
   "execution_count": null,
   "metadata": {},
   "outputs": [],
   "source": [
    "import glob\n",
    "import os\n",
    "import numpy as np"
   ]
  },
  {
   "cell_type": "code",
   "execution_count": null,
   "metadata": {},
   "outputs": [],
   "source": [
    "speeches_dir = 'data/speeches/'"
   ]
  },
  {
   "cell_type": "code",
   "execution_count": null,
   "metadata": {},
   "outputs": [],
   "source": [
    "from gensim.parsing.preprocessing import preprocess_string, \\\n",
    "                                         strip_non_alphanum, strip_tags\n",
    "\n",
    "def clean(text):\n",
    "    text = strip_tags(text)\n",
    "    text = strip_non_alphanum(text)\n",
    "    return text\n",
    "\n",
    "def load_speeches(category, filename='*.txt'):\n",
    "    \"\"\"\n",
    "       :param category: What type of speeches to load\n",
    "                        - women or comedians\n",
    "       :param filename: The filename pattern\n",
    "    \"\"\"\n",
    "    category_dir = os.path.join(speeches_dir,category)\n",
    "    for filename in glob.glob(os.path.join(category_dir, filename)):\n",
    "        with open(filename, encoding='latin-1') as f:\n",
    "            yield filename, clean(f.read())"
   ]
  },
  {
   "cell_type": "code",
   "execution_count": null,
   "metadata": {},
   "outputs": [],
   "source": [
    "womens_speeches = load_speeches('women')\n",
    "comedian_speeches = load_speeches('comedians')"
   ]
  },
  {
   "cell_type": "code",
   "execution_count": null,
   "metadata": {},
   "outputs": [],
   "source": [
    "from nltk.tokenize import word_tokenize\n",
    "\n",
    "\n",
    "def load_corpus(speeches):\n",
    "    corpus = []\n",
    "    for filename, speech in speeches:\n",
    "        print(f'Loading speech {filename}')\n",
    "        tokens = word_tokenize(speech)\n",
    "        corpus = corpus + tokens\n",
    "    return corpus"
   ]
  },
  {
   "cell_type": "code",
   "execution_count": null,
   "metadata": {},
   "outputs": [],
   "source": [
    "corpus = load_corpus(womens_speeches)"
   ]
  },
  {
   "cell_type": "code",
   "execution_count": null,
   "metadata": {},
   "outputs": [],
   "source": [
    "def make_pairs(corpus):\n",
    "    for i in range(len(corpus)-1):\n",
    "        yield (corpus[i], corpus[i+1])\n",
    "          \n",
    "def load_word_dict(corpus):\n",
    "    pairs = make_pairs(corpus)\n",
    "    word_dict = {}\n",
    "    for word_1, word_2 in pairs:\n",
    "        if word_1 in word_dict.keys():\n",
    "            word_dict[word_1].append(word_2)\n",
    "        else:\n",
    "            word_dict[word_1] = [word_2]\n",
    "    return word_dict\n",
    "            \n",
    "def load_markov_dict(category, filename='*.txt'):\n",
    "    speeches = load_speeches(category, filename)\n",
    "    corpus = load_corpus(speeches)\n",
    "    return load_word_dict(corpus)"
   ]
  },
  {
   "cell_type": "code",
   "execution_count": null,
   "metadata": {},
   "outputs": [],
   "source": [
    "womens_speeches_word_dict = load_markov_dict('women')"
   ]
  },
  {
   "cell_type": "code",
   "execution_count": null,
   "metadata": {},
   "outputs": [],
   "source": [
    "comedians_word_dict = load_markov_dict('comedians')"
   ]
  },
  {
   "cell_type": "code",
   "execution_count": null,
   "metadata": {},
   "outputs": [],
   "source": [
    "def get_sentence(word_dict, n_words=15):\n",
    "    first_word = np.random.choice(list(word_dict.keys()))\n",
    "    while first_word.islower():\n",
    "        first_word = np.random.choice(corpus)\n",
    "    chain = [first_word]\n",
    "    for i in range(n_words):\n",
    "        chain.append(np.random.choice(word_dict[chain[-1]]))\n",
    "    return ' '.join(chain)"
   ]
  },
  {
   "cell_type": "code",
   "execution_count": null,
   "metadata": {},
   "outputs": [],
   "source": [
    "get_sentence(womens_speeches_word_dict)"
   ]
  },
  {
   "cell_type": "code",
   "execution_count": null,
   "metadata": {},
   "outputs": [],
   "source": [
    "a"
   ]
  },
  {
   "cell_type": "code",
   "execution_count": null,
   "metadata": {},
   "outputs": [],
   "source": []
  }
 ],
 "metadata": {
  "kernelspec": {
   "display_name": "Python 3",
   "language": "python",
   "name": "python3"
  },
  "language_info": {
   "codemirror_mode": {
    "name": "ipython",
    "version": 3
   },
   "file_extension": ".py",
   "mimetype": "text/x-python",
   "name": "python",
   "nbconvert_exporter": "python",
   "pygments_lexer": "ipython3",
   "version": "3.7.3"
  }
 },
 "nbformat": 4,
 "nbformat_minor": 2
}
