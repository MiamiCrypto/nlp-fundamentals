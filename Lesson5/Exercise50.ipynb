{
 "cells": [
  {
   "cell_type": "markdown",
   "metadata": {},
   "source": [
    "## Topic Fingerprints"
   ]
  },
  {
   "cell_type": "code",
   "execution_count": null,
   "metadata": {},
   "outputs": [],
   "source": [
    "import pandas as pd\n",
    "\n",
    "pd.set_option('display.max_colwidth', 800)"
   ]
  },
  {
   "cell_type": "code",
   "execution_count": null,
   "metadata": {},
   "outputs": [],
   "source": [
    "OPEN_DATA_URL = 'data/canada-open-data/inventory.csv'\n",
    "COLUMNS = ['title_en', 'description_en','date_released']\n",
    "catalog = pd.read_csv(OPEN_DATA_URL, usecols=COLUMNS)\n",
    "catalog = catalog.dropna(subset=['description_en'])"
   ]
  },
  {
   "cell_type": "code",
   "execution_count": null,
   "metadata": {},
   "outputs": [],
   "source": [
    "catalog"
   ]
  },
  {
   "cell_type": "code",
   "execution_count": null,
   "metadata": {},
   "outputs": [],
   "source": [
    "%autosave 60"
   ]
  },
  {
   "cell_type": "code",
   "execution_count": null,
   "metadata": {},
   "outputs": [],
   "source": [
    "def text_to_tokens(text):\n",
    "    text = text.lower()\n",
    "    text = remove_stopwords(text)\n",
    "    tokens = simple_preprocess(text)\n",
    "    return tokens"
   ]
  },
  {
   "cell_type": "code",
   "execution_count": null,
   "metadata": {},
   "outputs": [],
   "source": [
    "from gensim.parsing.preprocessing import remove_stopwords\n",
    "from gensim.utils import simple_preprocess\n",
    "\n",
    "dataset_descriptions = catalog.description_en.apply(text_to_tokens)"
   ]
  },
  {
   "cell_type": "code",
   "execution_count": null,
   "metadata": {},
   "outputs": [],
   "source": [
    "dataset_descriptions"
   ]
  },
  {
   "cell_type": "code",
   "execution_count": null,
   "metadata": {},
   "outputs": [],
   "source": [
    "import gensim\n",
    "from gensim.models import LdaModel\n",
    "from gensim.parsing.preprocessing import preprocess_string\n",
    "\n",
    "dictionary = gensim.corpora.Dictionary(dataset_descriptions)\n",
    "corpus = [dictionary.doc2bow(text) for text in dataset_descriptions]"
   ]
  },
  {
   "cell_type": "markdown",
   "metadata": {},
   "source": [
    "## Dictionary"
   ]
  },
  {
   "cell_type": "code",
   "execution_count": null,
   "metadata": {},
   "outputs": [],
   "source": [
    "for i in range(0, 20):\n",
    "    print(i, dictionary[i])"
   ]
  },
  {
   "cell_type": "markdown",
   "metadata": {},
   "source": [
    "## Corpus"
   ]
  },
  {
   "cell_type": "code",
   "execution_count": null,
   "metadata": {},
   "outputs": [],
   "source": [
    "VECTOR_SIZE=50\n",
    "lda_model:LdaModel = LdaModel(corpus, \n",
    "                              num_topics=VECTOR_SIZE, \n",
    "                              passes=4)\n",
    "lda_model.num_topics"
   ]
  },
  {
   "cell_type": "code",
   "execution_count": null,
   "metadata": {},
   "outputs": [],
   "source": [
    "text = catalog.description_en[0]\n",
    "tokens = text_to_tokens(text)\n",
    "bag_of_words = dictionary.doc2bow(tokens)\n",
    "pd.DataFrame(lda_model[bag_of_words], \n",
    "             columns=['Topic','Relevance']).set_index('Topic')"
   ]
  },
  {
   "cell_type": "code",
   "execution_count": null,
   "metadata": {},
   "outputs": [],
   "source": [
    "def topic_vector(topic_model:LdaModel, text:str):\n",
    "    processed_text = text_to_tokens(text)\n",
    "    bag_of_words = dictionary.doc2bow(processed_text)\n",
    "    fingerprint = [0] * topic_model.num_topics\n",
    "    for topic, prob in topic_model[bag_of_words]:\n",
    "        fingerprint[topic] = prob\n",
    "    return fingerprint"
   ]
  },
  {
   "cell_type": "code",
   "execution_count": null,
   "metadata": {},
   "outputs": [],
   "source": [
    "import matplotlib.pyplot as plt\n",
    "import matplotlib.style as style\n",
    "from IPython.display import display\n",
    "\n",
    "style.use('fivethirtyeight')\n",
    "\n",
    "VECTOR_SIZE=50\n",
    "%matplotlib inline\n",
    "\n",
    "def show_fingerprint(topic_model, text:str):\n",
    "    display(text)\n",
    "    vector = topic_vector(topic_model, text)\n",
    "    plt.figure(figsize=(14,2))\n",
    "    ax = plt.bar( range(len(vector)), \n",
    "                 vector, \n",
    "                 0.25, \n",
    "                 linewidth=1)\n",
    "    plt.ylim(top=0.4)\n",
    "    plt.tick_params(axis='both', \n",
    "                    which='both',\n",
    "                    left=False, \n",
    "                    bottom=False, \n",
    "                    top=False,\n",
    "                    labelleft=False, \n",
    "                    labelbottom=False)\n",
    "    plt.grid(False)"
   ]
  },
  {
   "cell_type": "code",
   "execution_count": null,
   "metadata": {},
   "outputs": [],
   "source": [
    "show_fingerprint(lda_model, catalog.description_en[0])"
   ]
  },
  {
   "cell_type": "code",
   "execution_count": null,
   "metadata": {},
   "outputs": [],
   "source": [
    "show_fingerprint(lda_model, catalog.description_en[3])"
   ]
  },
  {
   "cell_type": "code",
   "execution_count": null,
   "metadata": {},
   "outputs": [],
   "source": [
    "show_fingerprint(lda_model, catalog.description_en[2])"
   ]
  },
  {
   "cell_type": "code",
   "execution_count": null,
   "metadata": {},
   "outputs": [],
   "source": [
    "topic_vector(lda_model, catalog.description_en[0])"
   ]
  },
  {
   "cell_type": "code",
   "execution_count": null,
   "metadata": {},
   "outputs": [],
   "source": []
  }
 ],
 "metadata": {
  "kernelspec": {
   "display_name": "Python 3",
   "language": "python",
   "name": "python3"
  },
  "language_info": {
   "codemirror_mode": {
    "name": "ipython",
    "version": 3
   },
   "file_extension": ".py",
   "mimetype": "text/x-python",
   "name": "python",
   "nbconvert_exporter": "python",
   "pygments_lexer": "ipython3",
   "version": "3.7.3"
  }
 },
 "nbformat": 4,
 "nbformat_minor": 2
}
