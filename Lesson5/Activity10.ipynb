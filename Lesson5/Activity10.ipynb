{
 "cells": [
  {
   "cell_type": "markdown",
   "metadata": {},
   "source": [
    "# Jeopardy Topics"
   ]
  },
  {
   "cell_type": "code",
   "execution_count": null,
   "metadata": {},
   "outputs": [],
   "source": [
    "import pandas as pd\n",
    "pd.set_option('display.max_colwidth', 800)\n",
    "\n",
    "\n",
    "JEOPARDY_CSV =  'data/jeopardy/Jeopardy.csv'\n",
    "\n",
    "questions = pd.read_csv(JEOPARDY_CSV)\n",
    "\n",
    "questions = questions.dropna(subset=['Question'])\n",
    "\n",
    "\n",
    "\n",
    "from gensim.parsing.preprocessing import preprocess_string\n",
    "ques_documents = questions.Question.apply(preprocess_string).tolist()\n",
    "\n",
    "from gensim import corpora\n",
    "from gensim.models.ldamodel import LdaModel\n",
    "\n",
    "dictionary = corpora.Dictionary(ques_documents)\n",
    "corpus = [dictionary.doc2bow(text) for text in ques_documents]\n",
    "\n",
    "\n",
    "\n",
    "NUM_TOPICS = 8\n",
    "ldamodel = LdaModel(corpus, num_topics = NUM_TOPICS, id2word=dictionary, passes=15)\n",
    "\n",
    "\n",
    "ldamodel.print_topics(num_words=6)\n"
   ]
  },
  {
   "cell_type": "code",
   "execution_count": null,
   "metadata": {},
   "outputs": [],
   "source": []
  }
 ],
 "metadata": {
  "kernelspec": {
   "display_name": "Python 3",
   "language": "python",
   "name": "python3"
  },
  "language_info": {
   "codemirror_mode": {
    "name": "ipython",
    "version": 3
   },
   "file_extension": ".py",
   "mimetype": "text/x-python",
   "name": "python",
   "nbconvert_exporter": "python",
   "pygments_lexer": "ipython3",
   "version": "3.7.3"
  }
 },
 "nbformat": 4,
 "nbformat_minor": 2
}
