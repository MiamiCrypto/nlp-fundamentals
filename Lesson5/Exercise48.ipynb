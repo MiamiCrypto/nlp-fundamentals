{
 "cells": [
  {
   "cell_type": "markdown",
   "metadata": {},
   "source": [
    "# Latent Semantic Analysis"
   ]
  },
  {
   "cell_type": "code",
   "execution_count": null,
   "metadata": {},
   "outputs": [],
   "source": [
    "import warnings\n",
    "warnings.filterwarnings('ignore')\n",
    "%autosave 120"
   ]
  },
  {
   "cell_type": "code",
   "execution_count": null,
   "metadata": {},
   "outputs": [],
   "source": [
    "from gensim import corpora\n",
    "from gensim.models import LsiModel\n",
    "from gensim.parsing.preprocessing import preprocess_string"
   ]
  },
  {
   "cell_type": "code",
   "execution_count": null,
   "metadata": {},
   "outputs": [],
   "source": [
    "import re\n",
    "\n",
    "def clean_text(x):\n",
    "    pattern = r'[^a-zA-z0-9\\s]'\n",
    "    text = re.sub(pattern, '', x)\n",
    "    return x\n",
    "\n",
    "def clean_numbers(x):\n",
    "    if bool(re.search(r'\\d', x)):\n",
    "        x = re.sub('[0-9]{5,}', '#####', x)\n",
    "        x = re.sub('[0-9]{4}', '####', x)\n",
    "        x = re.sub('[0-9]{3}', '###', x)\n",
    "        x = re.sub('[0-9]{2}', '##', x)\n",
    "    return x\n",
    "\n",
    "def clean(x):\n",
    "    x = clean_text(x)\n",
    "    x = clean_numbers(x)\n",
    "    return x"
   ]
  },
  {
   "cell_type": "code",
   "execution_count": null,
   "metadata": {},
   "outputs": [],
   "source": [
    "from pathlib import Path\n",
    "from bs4 import BeautifulSoup\n",
    "\n",
    "def load_articles(data_dir):\n",
    "    reuters = Path(data_dir)\n",
    "    for path in reuters.glob('*.sgm'):\n",
    "        with path.open() as sgm_file:\n",
    "            contents = sgm_file.read()\n",
    "            soup = BeautifulSoup(contents)\n",
    "            for article in soup.find_all('body'):\n",
    "                yield article.text"
   ]
  },
  {
   "cell_type": "code",
   "execution_count": null,
   "metadata": {},
   "outputs": [],
   "source": [
    "def load_documents(document_dir):\n",
    "    print(f'Loading from {document_dir}')\n",
    "    documents = list(load_articles(document_dir))\n",
    "    print(f'Loaded {len(documents)} documents')\n",
    "    return documents\n",
    "\n",
    "def prepare_documents(documents):\n",
    "    print('Preparing documents')\n",
    "    documents = [clean(document) for document in documents]\n",
    "    documents = [preprocess_string(doc) for doc in documents]\n",
    "    return documents\n",
    "\n",
    "def create_lsa_model(documents, dictionary, number_of_topics):\n",
    "    print(f'Creating LSA Model with {number_of_topics} topics')\n",
    "    document_terms = [dictionary.doc2bow(doc) for doc in documents]\n",
    "    return LsiModel(document_terms, \n",
    "                    num_topics=number_of_topics, \n",
    "                    id2word = dictionary)\n",
    "\n",
    "def run_lsa_process(documents, number_of_topics=10):\n",
    "    documents = prepare_documents(documents)\n",
    "    dictionary = corpora.Dictionary(documents)\n",
    "    lsa_model = create_lsa_model(documents, dictionary,\n",
    "                                 number_of_topics)\n",
    "    return documents, dictionary, lsa_model"
   ]
  },
  {
   "cell_type": "code",
   "execution_count": null,
   "metadata": {},
   "outputs": [],
   "source": [
    "document_dir ='data/reuters'\n",
    "articles = list(load_articles(document_dir))\n",
    "documents, dictionary, model = run_lsa_process(articles, number_of_topics=8)"
   ]
  },
  {
   "cell_type": "code",
   "execution_count": null,
   "metadata": {},
   "outputs": [],
   "source": [
    "model.print_topics()"
   ]
  },
  {
   "cell_type": "code",
   "execution_count": null,
   "metadata": {},
   "outputs": [],
   "source": [
    "model"
   ]
  },
  {
   "cell_type": "markdown",
   "metadata": {},
   "source": [
    "## Coherence Model"
   ]
  },
  {
   "cell_type": "code",
   "execution_count": null,
   "metadata": {},
   "outputs": [],
   "source": [
    "from gensim.models.coherencemodel import CoherenceModel\n",
    "\n",
    "def calculate_coherence_score(documents, dictionary, model):\n",
    "    coherence_model = CoherenceModel(model=model, \n",
    "                                     texts=documents, \n",
    "                                     dictionary=dictionary, \n",
    "                                     coherence='c_v')\n",
    "    return coherence_model.get_coherence()\n",
    "\n",
    "def get_coherence_values(start, stop):\n",
    "    for num_topics in range(start, stop):\n",
    "        print(f'\\nCalculating coherence for {num_topics} topics')\n",
    "        documents, dictionary, model = run_lsa_process(articles, \n",
    "                                                       number_of_topics=num_topics)\n",
    "        coherence = calculate_coherence_score(documents, \n",
    "                                              dictionary, \n",
    "                                              model)\n",
    "        yield coherence"
   ]
  },
  {
   "cell_type": "code",
   "execution_count": null,
   "metadata": {},
   "outputs": [],
   "source": [
    "min_topics, max_topics = 20,40\n",
    "coherence_scores = list(get_coherence_values(min_topics, max_topics))"
   ]
  },
  {
   "cell_type": "code",
   "execution_count": null,
   "metadata": {},
   "outputs": [],
   "source": [
    "documents"
   ]
  },
  {
   "cell_type": "markdown",
   "metadata": {},
   "source": [
    "## Plot"
   ]
  },
  {
   "cell_type": "code",
   "execution_count": null,
   "metadata": {},
   "outputs": [],
   "source": [
    "import matplotlib.pyplot as plt\n",
    "import matplotlib.style as style\n",
    "\n",
    "style.use('fivethirtyeight')\n",
    "\n",
    "%matplotlib inline"
   ]
  },
  {
   "cell_type": "code",
   "execution_count": null,
   "metadata": {},
   "outputs": [],
   "source": [
    "x = [int(i) for i in range(min_topics, max_topics)]\n",
    "\n",
    "plt.figure(figsize=(10,8))\n",
    "plt.plot(x, coherence_scores)\n",
    "plt.xlabel('Number of topics')\n",
    "plt.ylabel('Coherence Value')\n",
    "plt.title('Coherence Scores by number of Topics')"
   ]
  },
  {
   "cell_type": "code",
   "execution_count": null,
   "metadata": {},
   "outputs": [],
   "source": []
  },
  {
   "cell_type": "code",
   "execution_count": null,
   "metadata": {},
   "outputs": [],
   "source": []
  }
 ],
 "metadata": {
  "kernelspec": {
   "display_name": "Python 3",
   "language": "python",
   "name": "python3"
  },
  "language_info": {
   "codemirror_mode": {
    "name": "ipython",
    "version": 3
   },
   "file_extension": ".py",
   "mimetype": "text/x-python",
   "name": "python",
   "nbconvert_exporter": "python",
   "pygments_lexer": "ipython3",
   "version": "3.7.3"
  }
 },
 "nbformat": 4,
 "nbformat_minor": 2
}
