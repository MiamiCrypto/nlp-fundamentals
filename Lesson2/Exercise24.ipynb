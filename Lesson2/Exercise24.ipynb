{
 "cells": [
  {
   "cell_type": "markdown",
   "metadata": {},
   "source": [
    "# Exercise 13 : Zipf's Law"
   ]
  },
  {
   "cell_type": "markdown",
   "metadata": {},
   "source": [
    "Elucidate Zipf's Law for all articles present in sklearn’s “The 20 newsgroups text dataset”"
   ]
  },
  {
   "cell_type": "code",
   "execution_count": null,
   "metadata": {},
   "outputs": [],
   "source": [
    "from pylab import *\n",
    "import nltk\n",
    "nltk.download('stopwords')\n",
    "from sklearn.datasets import fetch_20newsgroups\n",
    "from nltk import word_tokenize\n",
    "from nltk.corpus import stopwords\n",
    "import matplotlib.pyplot as plt\n",
    "%matplotlib inline\n",
    "import re\n",
    "import string\n",
    "from collections import Counter\n",
    "newsgroups_data_sample = fetch_20newsgroups(subset='train')"
   ]
  },
  {
   "cell_type": "code",
   "execution_count": null,
   "metadata": {},
   "outputs": [],
   "source": [
    "stop_words = stopwords.words('english')\n",
    "\n",
    "#adding individual printable characters to list of wtop words so that they get renoved along with the stopwords\n",
    "stop_words = stop_words + list(string.printable)"
   ]
  },
  {
   "cell_type": "code",
   "execution_count": null,
   "metadata": {},
   "outputs": [],
   "source": [
    "tokenized_corpus = [word.lower() for sentence in newsgroups_data_sample['data'] \\\n",
    "                    for word in word_tokenize(re.sub(r'([^\\s\\w]|_)+', ' ', sentence)) \\\n",
    "                    if word.lower() not in stop_words]\n"
   ]
  },
  {
   "cell_type": "code",
   "execution_count": null,
   "metadata": {},
   "outputs": [],
   "source": [
    "token_count_di = Counter(tokenized_corpus)"
   ]
  },
  {
   "cell_type": "code",
   "execution_count": null,
   "metadata": {},
   "outputs": [],
   "source": [
    "token_count_di.most_common(50)"
   ]
  },
  {
   "cell_type": "code",
   "execution_count": null,
   "metadata": {},
   "outputs": [],
   "source": [
    "frequencies = [b for (a,b) in token_count_di.most_common(10000)]\n",
    "tokens = [a for (a,b) in token_count_di.most_common(10000)]\n",
    "ranks = range(1, len(frequencies)+1)\n",
    "\n",
    "\n",
    "plt.figure(figsize=(8,8))\n",
    "plt.ylim(1,10**4)\n",
    "plt.xlim(1,10**4)\n",
    "\n",
    "#Actual ranks and frequencies\n",
    "obtained_line, = loglog(ranks, frequencies, marker=\".\", label=\"Line obtained from the Text Corpus\")\n",
    "obtained_legend = plt.legend(handles=[obtained_line], loc=1)\n",
    "ax = plt.gca().add_artist(obtained_legend)\n",
    "\n",
    "#Expected ranks and frequnecies as per Zipf's law\n",
    "expected_line, = plt.plot([1,frequencies[0]],[frequencies[0],1],color='r',label=\"Line expected as per Zipf's Law\")\n",
    "plt.legend(handles=[expected_line], loc=4)\n",
    "\n",
    "title(\"Plot stating Zipf law's in log-log scale\")\n",
    "xlabel(\"Rank of token in descending order of frequency of occurrence\")\n",
    "ylabel(\"Frequency of ocurrence of token\")\n",
    "grid(True)"
   ]
  }
 ],
 "metadata": {
  "kernelspec": {
   "display_name": "Python 3",
   "language": "python",
   "name": "python3"
  },
  "language_info": {
   "codemirror_mode": {
    "name": "ipython",
    "version": 3
   },
   "file_extension": ".py",
   "mimetype": "text/x-python",
   "name": "python",
   "nbconvert_exporter": "python",
   "pygments_lexer": "ipython3",
   "version": "3.7.3"
  }
 },
 "nbformat": 4,
 "nbformat_minor": 2
}
