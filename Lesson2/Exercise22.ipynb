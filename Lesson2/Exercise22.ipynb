{
 "cells": [
  {
   "cell_type": "markdown",
   "metadata": {},
   "source": [
    "# Exercise 11 : Extracting general features from raw texts"
   ]
  },
  {
   "cell_type": "markdown",
   "metadata": {},
   "source": [
    "Extract general features like <br>\n",
    "i) number of words, <br>\n",
    "ii) detect presence of wh words, <br>\n",
    "iii) polarity, <br>\n",
    "iv) subjectivity, <br>\n",
    "v) language in which it is written <br>\n",
    "from the following sentences:<br>\n",
    "\n",
    "**The interim budget for 2019 will be announced on 1st February.**\n",
    "\n",
    "**Do you know how much expectation the middle-class working population is having from this budget?**\n",
    "\n",
    "**February is the shortest month in a year.**\n",
    "\n",
    "**This financial year will end on 31st March.**"
   ]
  },
  {
   "cell_type": "code",
   "execution_count": null,
   "metadata": {},
   "outputs": [],
   "source": [
    "import pandas as pd\n",
    "df = pd.DataFrame([['The interim budget for 2019 will be announced on 1st February.'],\n",
    "                   ['Do you know how much expectation the middle-class working population is having from this budget?'],\n",
    "                   ['February is the shortest month in a year.'],\n",
    "                   ['This financial year will end on 31st March.']])\n",
    "df.columns = ['text']\n",
    "df"
   ]
  },
  {
   "cell_type": "code",
   "execution_count": null,
   "metadata": {},
   "outputs": [],
   "source": [
    "#Q1 Solution\n",
    "from textblob import TextBlob\n",
    "df['number_of_words'] = df['text'].apply(lambda x : len(TextBlob(str(x)).words))\n",
    "df['number_of_words']"
   ]
  },
  {
   "cell_type": "code",
   "execution_count": null,
   "metadata": {},
   "outputs": [],
   "source": [
    "#Q2 Solution\n",
    "wh_words = set(['why', 'who', 'which', 'what', 'where', 'when', 'how'])\n",
    "df['is_wh_words_present'] = df['text'].apply(lambda x : True if \\\n",
    "                                             len(set(TextBlob(str(x)).words).intersection(wh_words))>0 else False)\n",
    "df['is_wh_words_present']"
   ]
  },
  {
   "cell_type": "code",
   "execution_count": null,
   "metadata": {},
   "outputs": [],
   "source": [
    "#Q3 Solution\n",
    "df['polarity'] = df['text'].apply(lambda x : TextBlob(str(x)).sentiment.polarity)\n",
    "df['polarity']"
   ]
  },
  {
   "cell_type": "code",
   "execution_count": null,
   "metadata": {},
   "outputs": [],
   "source": [
    "#Q4 Solution\n",
    "df['subjectivity'] = df['text'].apply(lambda x : TextBlob(str(x)).sentiment.subjectivity)\n",
    "df['subjectivity']"
   ]
  },
  {
   "cell_type": "code",
   "execution_count": null,
   "metadata": {},
   "outputs": [],
   "source": [
    "#Q5 Solution\n",
    "df['language'] = df['text'].apply(lambda x : TextBlob(str(x)).detect_language())\n",
    "df['language']"
   ]
  }
 ],
 "metadata": {
  "kernelspec": {
   "display_name": "Python 3",
   "language": "python",
   "name": "python3"
  },
  "language_info": {
   "codemirror_mode": {
    "name": "ipython",
    "version": 3
   },
   "file_extension": ".py",
   "mimetype": "text/x-python",
   "name": "python",
   "nbconvert_exporter": "python",
   "pygments_lexer": "ipython3",
   "version": "3.7.3"
  }
 },
 "nbformat": 4,
 "nbformat_minor": 2
}
