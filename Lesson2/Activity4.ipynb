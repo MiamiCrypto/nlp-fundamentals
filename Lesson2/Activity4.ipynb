{
 "cells": [
  {
   "cell_type": "markdown",
   "metadata": {},
   "source": [
    "# Activity 3: Text Visualization"
   ]
  },
  {
   "cell_type": "markdown",
   "metadata": {},
   "source": [
    "Read the content of the text file named text_corpus.txt present in the data_ch2 folder. Do the pre-processing steps (like text cleaning, tokenization, stop word removal, lemmatization/stemming) which are essential. After that,  <br>\n",
    "i) create a set of unique words along with their frequencies for top 50 highly occurring words <br>\n",
    "ii) create a word cloud for these top 50 words<br>\n",
    "\n",
    "Justify the word cloud by comparing it with the word frequency calculated. \n"
   ]
  },
  {
   "cell_type": "code",
   "execution_count": null,
   "metadata": {},
   "outputs": [],
   "source": [
    "from wordcloud import WordCloud, STOPWORDS\n",
    "import matplotlib.pyplot as plt\n",
    "%matplotlib inline\n",
    "from nltk import word_tokenize\n",
    "from nltk.stem import WordNetLemmatizer\n",
    "import nltk\n",
    "from collections import Counter\n",
    "import re"
   ]
  },
  {
   "cell_type": "code",
   "execution_count": null,
   "metadata": {},
   "outputs": [],
   "source": [
    "text = open('data_ch2/text_corpus.txt', 'r').read()\n",
    "text"
   ]
  },
  {
   "cell_type": "code",
   "execution_count": null,
   "metadata": {},
   "outputs": [],
   "source": [
    "#Text cleaning, tokenization, lemmatization\n",
    "nltk.download('wordnet')\n",
    "lemmatizer = WordNetLemmatizer()\n",
    "cleaned_lemmatized_tokens = [lemmatizer.lemmatize(word.lower()) \\\n",
    "                             for word in word_tokenize(re.sub(r'([^\\s\\w]|_)+', ' ', text))]"
   ]
  },
  {
   "cell_type": "code",
   "execution_count": null,
   "metadata": {},
   "outputs": [],
   "source": [
    "# i) Set of unique words along with their frequencies for top 50 highly occurring words\n",
    "Counter(cleaned_lemmatized_tokens).most_common(50)"
   ]
  },
  {
   "cell_type": "code",
   "execution_count": null,
   "metadata": {},
   "outputs": [],
   "source": [
    "#ii)  Stopwords removal and wordcloud for top 50 words\n",
    "stopwords = set(STOPWORDS)\n",
    "cleaned_text = ' '.join(cleaned_lemmatized_tokens)\n",
    "wordcloud = WordCloud(width = 800, height = 800, \n",
    "                background_color ='white', \n",
    "                max_words=50,\n",
    "                stopwords = stopwords, \n",
    "                min_font_size = 10).generate(cleaned_text)\n",
    "plt.imshow(wordcloud, interpolation='bilinear')\n",
    "plt.axis(\"off\")\n",
    "plt.show()"
   ]
  }
 ],
 "metadata": {
  "kernelspec": {
   "display_name": "Python 3",
   "language": "python",
   "name": "python3"
  },
  "language_info": {
   "codemirror_mode": {
    "name": "ipython",
    "version": 3
   },
   "file_extension": ".py",
   "mimetype": "text/x-python",
   "name": "python",
   "nbconvert_exporter": "python",
   "pygments_lexer": "ipython3",
   "version": "3.7.3"
  }
 },
 "nbformat": 4,
 "nbformat_minor": 2
}
