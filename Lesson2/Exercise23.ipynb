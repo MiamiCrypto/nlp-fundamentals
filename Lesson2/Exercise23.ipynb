{
 "cells": [
  {
   "cell_type": "markdown",
   "metadata": {},
   "source": [
    "# Exercise 12 : Bag of Words"
   ]
  },
  {
   "cell_type": "markdown",
   "metadata": {},
   "source": [
    "Create the bag of word representation of the following texts for<br>\n",
    "1) All the terms <br>\n",
    "2) Top 10 frequent terms<br>\n",
    "\n",
    "Text_1: Data Science is an overlap between Arts and Science. <br>\n",
    "Text_2: Generally, Arts graduates are right-brained and Science graduates are left-brained.<br>\n",
    "Text_3: Excelling in both Arts and Science at a time becomes difficult.<br>\n",
    "Text_4: Natural Language Processing is a part of Data Science.<br>"
   ]
  },
  {
   "cell_type": "code",
   "execution_count": null,
   "metadata": {},
   "outputs": [],
   "source": [
    "import pandas as pd\n",
    "from sklearn.feature_extraction.text import CountVectorizer\n",
    "corpus = [\n",
    "'Data Science is an overlap between Arts and Science',\n",
    "'Generally, Arts graduates are right-brained and Science graduates are left-brained',\n",
    "'Excelling in both Arts and Science at a time becomes difficult',\n",
    "'Natural Language Processing is a part of Data Science'\n",
    "]"
   ]
  },
  {
   "cell_type": "code",
   "execution_count": null,
   "metadata": {},
   "outputs": [],
   "source": [
    "#Q1 Solution : For all words\n",
    "bag_of_words_model = CountVectorizer()\n",
    "print(bag_of_words_model.fit_transform(corpus).todense())"
   ]
  },
  {
   "cell_type": "code",
   "execution_count": null,
   "metadata": {},
   "outputs": [],
   "source": [
    "bag_of_word_df = pd.DataFrame(bag_of_words_model.fit_transform(corpus).todense())\n",
    "bag_of_word_df.columns = sorted(bag_of_words_model.vocabulary_)\n",
    "bag_of_word_df.head()"
   ]
  },
  {
   "cell_type": "code",
   "execution_count": null,
   "metadata": {},
   "outputs": [],
   "source": [
    "##Q2 Solution : Bag of word model for top 10 frequent terms\n",
    "bag_of_words_model_small = CountVectorizer(max_features=10)\n",
    "bag_of_word_df_small = pd.DataFrame(bag_of_words_model_small.fit_transform(corpus).todense())\n",
    "bag_of_word_df_small.columns = sorted(bag_of_words_model_small.vocabulary_)\n",
    "bag_of_word_df_small.head()"
   ]
  }
 ],
 "metadata": {
  "kernelspec": {
   "display_name": "Python 3",
   "language": "python",
   "name": "python3"
  },
  "language_info": {
   "codemirror_mode": {
    "name": "ipython",
    "version": 3
   },
   "file_extension": ".py",
   "mimetype": "text/x-python",
   "name": "python",
   "nbconvert_exporter": "python",
   "pygments_lexer": "ipython3",
   "version": "3.7.3"
  }
 },
 "nbformat": 4,
 "nbformat_minor": 2
}
